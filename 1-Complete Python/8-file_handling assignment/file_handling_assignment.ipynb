{
 "cells": [
  {
   "cell_type": "markdown",
   "metadata": {},
   "source": [
    "# Module: File Handling Assignments\n",
    "## Lesson: File Handling and Operations\n",
    "### Assignment 1: Reading a File\n",
    "\n",
    "Write a function that reads the contents of a file named `sample.txt` and prints each line."
   ]
  },
  {
   "cell_type": "code",
   "execution_count": 1,
   "metadata": {},
   "outputs": [
    {
     "name": "stdout",
     "output_type": "stream",
     "text": [
      "hello world\n",
      "sam\n"
     ]
    }
   ],
   "source": [
    "def read_file(filename):\n",
    "    with open(filename, 'r') as file:\n",
    "        for line in file:\n",
    "            print(line.strip())\n",
    "read_file('sample.txt')"
   ]
  },
  {
   "cell_type": "markdown",
   "metadata": {},
   "source": [
    "### Assignment 2: Writing to a File\n",
    "\n",
    "Write a function that writes a list of strings to a file named `output.txt`, with each string on a new line."
   ]
  },
  {
   "cell_type": "code",
   "execution_count": 2,
   "metadata": {},
   "outputs": [],
   "source": [
    "def write_file(lines, filename):\n",
    "    with open(filename,'w') as file:\n",
    "        for line in lines:\n",
    "            file.write(line + '\\n')\n",
    "write_file(['Hello', 'World'], 'output.txt')"
   ]
  },
  {
   "cell_type": "markdown",
   "metadata": {},
   "source": [
    "### Assignment 3: Copying a File\n",
    "\n",
    "Write a function that copies the contents of a file named `source.txt` to a new file named `destination.txt`."
   ]
  },
  {
   "cell_type": "code",
   "execution_count": 3,
   "metadata": {},
   "outputs": [],
   "source": [
    "def copy_file(source, destination):\n",
    "    with open(source,'r') as src:\n",
    "        with open(destination,'w') as dest:\n",
    "            dest.write(src.read())\n",
    "copy_file('sample.txt', 'dest.txt')"
   ]
  },
  {
   "cell_type": "markdown",
   "metadata": {},
   "source": [
    "### Assignment 4: Appending to a File\n",
    "\n",
    "Write a function that appends a given string to the end of a file named `log.txt`."
   ]
  },
  {
   "cell_type": "code",
   "execution_count": 4,
   "metadata": {},
   "outputs": [],
   "source": [
    "def append_to_file(text, filename):\n",
    "    with open(filename,'a') as file:\n",
    "        file.write(text+'\\n')\n",
    "append_to_file('This is a new log entry', 'sample.txt')"
   ]
  },
  {
   "cell_type": "markdown",
   "metadata": {},
   "source": [
    "### Assignment 5: Counting Words in a File\n",
    "\n",
    "Write a function that reads the contents of a file named `document.txt` and returns the number of words in the file."
   ]
  },
  {
   "cell_type": "code",
   "execution_count": 6,
   "metadata": {},
   "outputs": [
    {
     "name": "stdout",
     "output_type": "stream",
     "text": [
      "['hello', 'world', 'samThis', 'is', 'a', 'new', 'log', 'entry']\n",
      "8\n"
     ]
    }
   ],
   "source": [
    "def count_words(filename):\n",
    "    with open(filename, 'r') as file:\n",
    "        text=file.read()\n",
    "        words=text.split()\n",
    "        print(words)\n",
    "        return len(words)\n",
    "print(count_words('sample.txt'))"
   ]
  },
  {
   "cell_type": "markdown",
   "metadata": {},
   "source": [
    "### Assignment 6: Finding and Replacing Text\n",
    "\n",
    "Write a function that finds and replaces all occurrences of a given word in a file named `data.txt` with another word."
   ]
  },
  {
   "cell_type": "code",
   "execution_count": 7,
   "metadata": {},
   "outputs": [],
   "source": [
    "def find_and_replace(filename, old_word, new_word):\n",
    "    with open(filename,'r') as file:\n",
    "        text=file.read()\n",
    "    new_text=text.replace(old_word, new_word)\n",
    "    with open(filename,'w') as file:\n",
    "        file.write(new_text)\n",
    "find_and_replace('data.txt', 'old', 'new')"
   ]
  },
  {
   "cell_type": "markdown",
   "metadata": {},
   "source": [
    "### Assignment 7: Reading a File in Reverse\n",
    "\n",
    "Write a function that reads the contents of a file named `reverse.txt` and prints each line in reverse order."
   ]
  },
  {
   "cell_type": "code",
   "execution_count": 8,
   "metadata": {},
   "outputs": [
    {
     "name": "stdout",
     "output_type": "stream",
     "text": [
      "samThis is a new log entry\n",
      "hello world\n"
     ]
    }
   ],
   "source": [
    "def read_reverse(filename):\n",
    "    with open(filename, 'r') as file:\n",
    "        lines = file.readlines()\n",
    "    for line in reversed(lines):\n",
    "        print(line.strip())\n",
    "read_reverse('sample.txt')"
   ]
  },
  {
   "cell_type": "markdown",
   "metadata": {},
   "source": [
    "### Assignment 8: Counting Lines, Words, and Characters\n",
    "\n",
    "Write a function that reads the contents of a file named `stats.txt` and returns the number of lines, words, and characters in the file."
   ]
  },
  {
   "cell_type": "code",
   "execution_count": 9,
   "metadata": {},
   "outputs": [
    {
     "name": "stdout",
     "output_type": "stream",
     "text": [
      "(2, 8, 39)\n"
     ]
    }
   ],
   "source": [
    "def count_lwc(filename):\n",
    "    with open(filename, 'r') as file:\n",
    "        lines=file.readlines()\n",
    "        words = sum(len(line.split()) for line in lines)\n",
    "        characters = sum(len(line) for line in lines)\n",
    "    return len(lines), words, characters\n",
    "\n",
    "print(count_lwc('sample.txt'))"
   ]
  },
  {
   "cell_type": "markdown",
   "metadata": {},
   "source": [
    "### Assignment 9: Merging Multiple Files\n",
    "\n",
    "Write a function that merges the contents of multiple files into a single file named `merged.txt`."
   ]
  },
  {
   "cell_type": "code",
   "execution_count": 11,
   "metadata": {},
   "outputs": [],
   "source": [
    "def merge_files(file_list, output_file):\n",
    "    with open(output_file, 'w') as outfile:\n",
    "        for fname in file_list:\n",
    "            with open(fname, 'r') as infile:\n",
    "                outfile.write(infile.read() + '\\n')\n",
    "\n",
    "merge_files(['file1.txt', 'file2.txt', 'file3.txt'], 'merged.txt')\n"
   ]
  },
  {
   "cell_type": "markdown",
   "metadata": {},
   "source": [
    "### Assignment 10: Splitting a Large File\n",
    "\n",
    "Write a function that splits a large file named `large.txt` into smaller files of 2 lines each."
   ]
  },
  {
   "cell_type": "code",
   "execution_count": 13,
   "metadata": {},
   "outputs": [
    {
     "name": "stdout",
     "output_type": "stream",
     "text": [
      "File successfully split into 3 parts.\n"
     ]
    }
   ],
   "source": [
    "import os\n",
    "def split_file(filename, lines_per_file):\n",
    "    with open(filename, 'r') as file:\n",
    "        lines = file.readlines()\n",
    "        \n",
    "        base_name, ext = os.path.splitext(filename)\n",
    "        for i in range(0, len(lines), lines_per_file):\n",
    "            part_num = i // lines_per_file + 1\n",
    "            part_filename = f\"{base_name}_part{part_num:02d}{ext}\"\n",
    "            with open(part_filename, 'w') as part_file:\n",
    "                part_file.writelines(lines[i:i + lines_per_file])\n",
    "\n",
    "        print(f\"File successfully split into {part_num} parts.\")\n",
    "\n",
    "split_file('large.txt', 2)"
   ]
  },
  {
   "cell_type": "markdown",
   "metadata": {},
   "source": [
    "### Assignment 11: Creating a Log File\n",
    "\n",
    "Write a function that creates a log file named `activity.log` and writes log messages with timestamps."
   ]
  },
  {
   "cell_type": "code",
   "execution_count": 16,
   "metadata": {},
   "outputs": [],
   "source": [
    "import datetime\n",
    "\n",
    "def log_message(message, filename='activity.log'):\n",
    "    timestamp = datetime.datetime.now().isoformat()\n",
    "    with open(filename, 'a') as file:\n",
    "        file.write(f'[{timestamp}] {message}\\n')\n",
    "log_message('This is a log message')"
   ]
  },
  {
   "cell_type": "markdown",
   "metadata": {},
   "source": [
    "### Assignment 12: Binary File Operations\n",
    "\n",
    "Write a function that reads a binary file named `image.bin` and writes its contents to another binary file named `copy_image.bin`."
   ]
  },
  {
   "cell_type": "code",
   "execution_count": 17,
   "metadata": {},
   "outputs": [],
   "source": [
    "def copy_binary_file(source, destination):\n",
    "    with open(source,'rb') as src:\n",
    "        with open(destination,'wb') as dest:\n",
    "            dest.write(src.read())\n",
    "copy_binary_file('image.bin', 'copy_image.bin')"
   ]
  },
  {
   "cell_type": "markdown",
   "metadata": {},
   "source": [
    "### Assignment 13: CSV File Operations\n",
    "\n",
    "Write a function that reads a CSV file named `data.csv` and prints its contents as a list of dictionaries."
   ]
  },
  {
   "cell_type": "code",
   "execution_count": 18,
   "metadata": {},
   "outputs": [
    {
     "data": {
      "text/plain": [
       "[{'Name': 'Alice', 'Age': '25', 'City': 'New York'},\n",
       " {'Name': 'Bob', 'Age': '30', 'City': 'Los Angeles'},\n",
       " {'Name': 'Charlie', 'Age': '22', 'City': 'Chicago'}]"
      ]
     },
     "execution_count": 18,
     "metadata": {},
     "output_type": "execute_result"
    }
   ],
   "source": [
    "import csv\n",
    "\n",
    "def read_csv_as_dicts(filename):\n",
    "    with open(filename, 'r') as file:\n",
    "        reader = csv.DictReader(file)\n",
    "        return list(reader)\n",
    "\n",
    "read_csv_as_dicts('data.csv')"
   ]
  },
  {
   "cell_type": "markdown",
   "metadata": {},
   "source": [
    "### Assignment 14: JSON File Operations\n",
    "\n",
    "Write a function that reads a JSON file named `data.json` and prints its contents as a Python dictionary."
   ]
  },
  {
   "cell_type": "code",
   "execution_count": 19,
   "metadata": {},
   "outputs": [
    {
     "name": "stdout",
     "output_type": "stream",
     "text": [
      "{'Name': 'Alice', 'Age': 25, 'City': 'New York'}\n"
     ]
    }
   ],
   "source": [
    "import json\n",
    "\n",
    "def read_json(filename):\n",
    "    with open(filename,'r') as file:\n",
    "        data=json.load(file)\n",
    "        return data\n",
    "\n",
    "print(read_json('data.json'))"
   ]
  },
  {
   "cell_type": "markdown",
   "metadata": {},
   "source": [
    "### Assignment 15: File Permission Handling\n",
    "\n",
    "Write a function that attempts to read a file named `protected.txt` and handles any permission errors gracefully by printing an error message."
   ]
  },
  {
   "cell_type": "code",
   "execution_count": 24,
   "metadata": {},
   "outputs": [
    {
     "name": "stdout",
     "output_type": "stream",
     "text": [
      "hello world\n"
     ]
    }
   ],
   "source": [
    "def read_protected_file(filename):\n",
    "    try:\n",
    "        with open(filename,'r') as file:\n",
    "            print(file.read())\n",
    "    except PermissionError as e:\n",
    "        print(f\"Permission error: {e}\")\n",
    "read_protected_file('protected.txt')"
   ]
  }
 ],
 "metadata": {
  "kernelspec": {
   "display_name": "base",
   "language": "python",
   "name": "python3"
  },
  "language_info": {
   "codemirror_mode": {
    "name": "ipython",
    "version": 3
   },
   "file_extension": ".py",
   "mimetype": "text/x-python",
   "name": "python",
   "nbconvert_exporter": "python",
   "pygments_lexer": "ipython3",
   "version": "3.12.7"
  }
 },
 "nbformat": 4,
 "nbformat_minor": 2
}
