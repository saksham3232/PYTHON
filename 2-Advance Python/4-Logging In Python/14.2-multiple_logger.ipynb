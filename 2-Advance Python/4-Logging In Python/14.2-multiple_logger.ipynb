{
 "cells": [
  {
   "cell_type": "markdown",
   "metadata": {},
   "source": [
    "#### Logging with Multiple Loggers\n",
    "You can create multiple loggers for different parts of your application."
   ]
  },
  {
   "cell_type": "code",
   "execution_count": 1,
   "metadata": {},
   "outputs": [],
   "source": [
    "import logging\n",
    "\n",
    "# create a logger for module1\n",
    "logger1=logging.getLogger(\"module1\")\n",
    "logger1.setLevel(logging.DEBUG)\n",
    "\n",
    "# create a logger for module2\n",
    "logger2=logging.getLogger(\"module2\")\n",
    "logger2.setLevel(logging.WARNING)\n",
    "\n",
    "# Configure logging settings\n",
    "logging.basicConfig(\n",
    "    level=logging.DEBUG,\n",
    "    format='%(asctime)s - %(name)s - %(levelname)s - %(message)s',\n",
    "    datefmt='%Y-%m-%d %H:%M:%S'\n",
    ")"
   ]
  },
  {
   "cell_type": "code",
   "execution_count": 3,
   "metadata": {},
   "outputs": [
    {
     "name": "stderr",
     "output_type": "stream",
     "text": [
      "2025-02-05 14:31:47 - module1 - DEBUG - This is a debug message for module1\n",
      "2025-02-05 14:31:47 - module1 - CRITICAL - This is a critical message for logger1\n",
      "2025-02-05 14:31:47 - module2 - WARNING - This is a warning message for module2\n",
      "2025-02-05 14:31:47 - module2 - ERROR - This is an error messge\n"
     ]
    }
   ],
   "source": [
    "# log messages with different loggers\n",
    "logger1.debug('This is a debug message for module1')\n",
    "logger1.critical('This is a critical message for logger1')\n",
    "logger2.warning('This is a warning message for module2')\n",
    "logger2.error('This is an error messge')"
   ]
  }
 ],
 "metadata": {
  "kernelspec": {
   "display_name": "base",
   "language": "python",
   "name": "python3"
  },
  "language_info": {
   "codemirror_mode": {
    "name": "ipython",
    "version": 3
   },
   "file_extension": ".py",
   "mimetype": "text/x-python",
   "name": "python",
   "nbconvert_exporter": "python",
   "pygments_lexer": "ipython3",
   "version": "3.12.7"
  }
 },
 "nbformat": 4,
 "nbformat_minor": 2
}
